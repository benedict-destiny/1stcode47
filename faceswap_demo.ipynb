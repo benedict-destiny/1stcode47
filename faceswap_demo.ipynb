{
  "cells": [
    {
      "cell_type": "markdown",
      "metadata": {
        "id": "AXwrTLF1vMAy"
      },
      "source": [
        "GitHub  \n",
        "https://github.com/deepfakes/faceswap  \n",
        "論文  \n",
        "https://arxiv.org/abs/2001.00179v3  \n",
        "\n",
        "<a href=\"https://colab.research.google.com/github/kaz12tech/ai_demos/blob/master/faceswap_demo.ipynb\" target=\"_blank\"><img src=\"https://colab.research.google.com/assets/colab-badge.svg\" alt=\"Open In Colab\"/></a>"
      ]
    },
    {
      "cell_type": "markdown",
      "metadata": {
        "id": "mS4w3rao0I28"
      },
      "source": [
        "## 全てのセルを実行する前に  \n",
        "### タイプ変更\n",
        "ランタイム→ランタイムのタイプを変更→GPU  \n",
        "### GoogleDriveをマウント\n",
        "ドライブをマウントを選択→Googleドライブに接続  \n",
        "\n"
      ]
    },
    {
      "cell_type": "code",
      "execution_count": null,
      "metadata": {
        "id": "YPV8s7gMV50O"
      },
      "outputs": [],
      "source": [
        "from google.colab import drive\n",
        "drive.mount('/content/drive')"
      ]
    },
    {
      "cell_type": "code",
      "execution_count": null,
      "metadata": {
        "id": "1vp7pSWm8nWu"
      },
      "outputs": [],
      "source": [
        "# GPU確認\n",
        "!nvidia-smi"
      ]
    },
    {
      "cell_type": "code",
      "execution_count": null,
      "metadata": {
        "id": "uPD_2kWXukXe"
      },
      "outputs": [],
      "source": [
        "# GitHubからコードをClone\n",
        "%cd /content/\n",
        "!git clone --depth 1 https://github.com/deepfakes/faceswap.git"
      ]
    },
    {
      "cell_type": "code",
      "execution_count": null,
      "metadata": {
        "id": "hfkfMMn4wZPl"
      },
      "outputs": [],
      "source": [
        "# ライブラリをインストール\n",
        "%cd /content/faceswap/\n",
        "!pip3 install -r _requirements_base.txt\n",
        "\n",
        "!pip3 uninstall tensorflow -y\n",
        "!pip3 install tensorflow==2.2.*\n",
        "\n",
        "# トレーニング時はnumpy 1.19.5、それ以外は、1.21.5が必要\n",
        "!pip3 uninstall numpy -y\n",
        "!pip3 install numpy --upgrade"
      ]
    },
    {
      "cell_type": "code",
      "execution_count": null,
      "metadata": {
        "id": "GH1yLqMFybI3"
      },
      "outputs": [],
      "source": [
        "!pip3 show tensorflow\n",
        "!pip3 show numpy"
      ]
    },
    {
      "cell_type": "code",
      "execution_count": null,
      "metadata": {
        "id": "XtzaM77gxVZ8"
      },
      "outputs": [],
      "source": [
        "from tensorflow.python.client import device_lib\n",
        "device_lib.list_local_devices()"
      ]
    },
    {
      "cell_type": "markdown",
      "metadata": {
        "id": "JEFHDaklOxH6"
      },
      "source": [
        "使用する動画  \n",
        "src  \n",
        "https://pixabay.com/ja/videos/%E5%AD%90%E4%BE%9B-%E5%AD%90%E3%81%A9%E3%82%82%E3%81%AE%E7%AC%91%E9%A1%94-%E8%B5%A4%E3%81%A1%E3%82%83%E3%82%93-33631/\n",
        "  \n",
        "target  \n",
        "https://pixabay.com/ja/videos/%E5%A5%B3%E6%80%A7-%E8%8B%A5%E3%81%84-%E7%BE%8E%E3%81%97%E3%81%84-%E8%A1%A8%E7%8F%BE-32387/  "
      ]
    },
    {
      "cell_type": "markdown",
      "metadata": {
        "id": "fMxvqTQ91SDj"
      },
      "source": [
        "# データ準備\n",
        "始めに利用したい顔の動画をアップロードしてください。  \n",
        "次に、顔を交換する動画をアップロードしてください。"
      ]
    },
    {
      "cell_type": "code",
      "execution_count": 1,
      "metadata": {
        "id": "Qq20Ruo2ycA4",
        "outputId": "5272e8b6-9f6e-4db4-b003-8a224f3b99e2",
        "colab": {
          "base_uri": "https://localhost:8080/",
          "height": 195
        }
      },
      "outputs": [
        {
          "output_type": "stream",
          "name": "stdout",
          "text": [
            "[Errno 2] No such file or directory: '/content/drive/MyDrive/Colab Notebooks/'\n",
            "/content\n",
            "[Errno 2] No such file or directory: '/content/drive/MyDrive/Colab Notebooks/faceswap'\n",
            "/content\n",
            "[Errno 2] No such file or directory: '/content/drive/MyDrive/Colab Notebooks/faceswap/src'\n",
            "/content\n"
          ]
        },
        {
          "output_type": "display_data",
          "data": {
            "text/plain": [
              "<IPython.core.display.HTML object>"
            ],
            "text/html": [
              "\n",
              "     <input type=\"file\" id=\"files-32d87bfc-224e-40a7-8c1c-b179b9444e82\" name=\"files[]\" multiple disabled\n",
              "        style=\"border:none\" />\n",
              "     <output id=\"result-32d87bfc-224e-40a7-8c1c-b179b9444e82\">\n",
              "      Upload widget is only available when the cell has been executed in the\n",
              "      current browser session. Please rerun this cell to enable.\n",
              "      </output>\n",
              "      <script>// Copyright 2017 Google LLC\n",
              "//\n",
              "// Licensed under the Apache License, Version 2.0 (the \"License\");\n",
              "// you may not use this file except in compliance with the License.\n",
              "// You may obtain a copy of the License at\n",
              "//\n",
              "//      http://www.apache.org/licenses/LICENSE-2.0\n",
              "//\n",
              "// Unless required by applicable law or agreed to in writing, software\n",
              "// distributed under the License is distributed on an \"AS IS\" BASIS,\n",
              "// WITHOUT WARRANTIES OR CONDITIONS OF ANY KIND, either express or implied.\n",
              "// See the License for the specific language governing permissions and\n",
              "// limitations under the License.\n",
              "\n",
              "/**\n",
              " * @fileoverview Helpers for google.colab Python module.\n",
              " */\n",
              "(function(scope) {\n",
              "function span(text, styleAttributes = {}) {\n",
              "  const element = document.createElement('span');\n",
              "  element.textContent = text;\n",
              "  for (const key of Object.keys(styleAttributes)) {\n",
              "    element.style[key] = styleAttributes[key];\n",
              "  }\n",
              "  return element;\n",
              "}\n",
              "\n",
              "// Max number of bytes which will be uploaded at a time.\n",
              "const MAX_PAYLOAD_SIZE = 100 * 1024;\n",
              "\n",
              "function _uploadFiles(inputId, outputId) {\n",
              "  const steps = uploadFilesStep(inputId, outputId);\n",
              "  const outputElement = document.getElementById(outputId);\n",
              "  // Cache steps on the outputElement to make it available for the next call\n",
              "  // to uploadFilesContinue from Python.\n",
              "  outputElement.steps = steps;\n",
              "\n",
              "  return _uploadFilesContinue(outputId);\n",
              "}\n",
              "\n",
              "// This is roughly an async generator (not supported in the browser yet),\n",
              "// where there are multiple asynchronous steps and the Python side is going\n",
              "// to poll for completion of each step.\n",
              "// This uses a Promise to block the python side on completion of each step,\n",
              "// then passes the result of the previous step as the input to the next step.\n",
              "function _uploadFilesContinue(outputId) {\n",
              "  const outputElement = document.getElementById(outputId);\n",
              "  const steps = outputElement.steps;\n",
              "\n",
              "  const next = steps.next(outputElement.lastPromiseValue);\n",
              "  return Promise.resolve(next.value.promise).then((value) => {\n",
              "    // Cache the last promise value to make it available to the next\n",
              "    // step of the generator.\n",
              "    outputElement.lastPromiseValue = value;\n",
              "    return next.value.response;\n",
              "  });\n",
              "}\n",
              "\n",
              "/**\n",
              " * Generator function which is called between each async step of the upload\n",
              " * process.\n",
              " * @param {string} inputId Element ID of the input file picker element.\n",
              " * @param {string} outputId Element ID of the output display.\n",
              " * @return {!Iterable<!Object>} Iterable of next steps.\n",
              " */\n",
              "function* uploadFilesStep(inputId, outputId) {\n",
              "  const inputElement = document.getElementById(inputId);\n",
              "  inputElement.disabled = false;\n",
              "\n",
              "  const outputElement = document.getElementById(outputId);\n",
              "  outputElement.innerHTML = '';\n",
              "\n",
              "  const pickedPromise = new Promise((resolve) => {\n",
              "    inputElement.addEventListener('change', (e) => {\n",
              "      resolve(e.target.files);\n",
              "    });\n",
              "  });\n",
              "\n",
              "  const cancel = document.createElement('button');\n",
              "  inputElement.parentElement.appendChild(cancel);\n",
              "  cancel.textContent = 'Cancel upload';\n",
              "  const cancelPromise = new Promise((resolve) => {\n",
              "    cancel.onclick = () => {\n",
              "      resolve(null);\n",
              "    };\n",
              "  });\n",
              "\n",
              "  // Wait for the user to pick the files.\n",
              "  const files = yield {\n",
              "    promise: Promise.race([pickedPromise, cancelPromise]),\n",
              "    response: {\n",
              "      action: 'starting',\n",
              "    }\n",
              "  };\n",
              "\n",
              "  cancel.remove();\n",
              "\n",
              "  // Disable the input element since further picks are not allowed.\n",
              "  inputElement.disabled = true;\n",
              "\n",
              "  if (!files) {\n",
              "    return {\n",
              "      response: {\n",
              "        action: 'complete',\n",
              "      }\n",
              "    };\n",
              "  }\n",
              "\n",
              "  for (const file of files) {\n",
              "    const li = document.createElement('li');\n",
              "    li.append(span(file.name, {fontWeight: 'bold'}));\n",
              "    li.append(span(\n",
              "        `(${file.type || 'n/a'}) - ${file.size} bytes, ` +\n",
              "        `last modified: ${\n",
              "            file.lastModifiedDate ? file.lastModifiedDate.toLocaleDateString() :\n",
              "                                    'n/a'} - `));\n",
              "    const percent = span('0% done');\n",
              "    li.appendChild(percent);\n",
              "\n",
              "    outputElement.appendChild(li);\n",
              "\n",
              "    const fileDataPromise = new Promise((resolve) => {\n",
              "      const reader = new FileReader();\n",
              "      reader.onload = (e) => {\n",
              "        resolve(e.target.result);\n",
              "      };\n",
              "      reader.readAsArrayBuffer(file);\n",
              "    });\n",
              "    // Wait for the data to be ready.\n",
              "    let fileData = yield {\n",
              "      promise: fileDataPromise,\n",
              "      response: {\n",
              "        action: 'continue',\n",
              "      }\n",
              "    };\n",
              "\n",
              "    // Use a chunked sending to avoid message size limits. See b/62115660.\n",
              "    let position = 0;\n",
              "    do {\n",
              "      const length = Math.min(fileData.byteLength - position, MAX_PAYLOAD_SIZE);\n",
              "      const chunk = new Uint8Array(fileData, position, length);\n",
              "      position += length;\n",
              "\n",
              "      const base64 = btoa(String.fromCharCode.apply(null, chunk));\n",
              "      yield {\n",
              "        response: {\n",
              "          action: 'append',\n",
              "          file: file.name,\n",
              "          data: base64,\n",
              "        },\n",
              "      };\n",
              "\n",
              "      let percentDone = fileData.byteLength === 0 ?\n",
              "          100 :\n",
              "          Math.round((position / fileData.byteLength) * 100);\n",
              "      percent.textContent = `${percentDone}% done`;\n",
              "\n",
              "    } while (position < fileData.byteLength);\n",
              "  }\n",
              "\n",
              "  // All done.\n",
              "  yield {\n",
              "    response: {\n",
              "      action: 'complete',\n",
              "    }\n",
              "  };\n",
              "}\n",
              "\n",
              "scope.google = scope.google || {};\n",
              "scope.google.colab = scope.google.colab || {};\n",
              "scope.google.colab._files = {\n",
              "  _uploadFiles,\n",
              "  _uploadFilesContinue,\n",
              "};\n",
              "})(self);\n",
              "</script> "
            ]
          },
          "metadata": {}
        },
        {
          "output_type": "stream",
          "name": "stdout",
          "text": [
            "Saving bien.mov to bien.mov\n",
            "['bien.mov']\n"
          ]
        }
      ],
      "source": [
        "%cd /content/drive/MyDrive/Colab\\ Notebooks/\n",
        "!mkdir faceswap\n",
        "%cd /content/drive/MyDrive/Colab\\ Notebooks/faceswap\n",
        "!mkdir src src_frames src_extract target target_frames target_extract models\n",
        "%cd /content/drive/MyDrive/Colab\\ Notebooks/faceswap/src\n",
        "\n",
        "import glob\n",
        "\n",
        "if 0 == len(glob.glob('/content/drive/MyDrive/Colab Notebooks/faceswap/src/*/content/bien.mov')):\n",
        "  # 顔を利用する動画をアップロード\n",
        "  from google.colab import files\n",
        "  src_uploaded = files.upload()\n",
        "  src_uploaded = list(src_uploaded.keys())\n",
        "  print(src_uploaded)\n",
        "  src_file = src_uploaded[0]"
      ]
    },
    {
      "cell_type": "code",
      "execution_count": 7,
      "metadata": {
        "id": "OaHBz1EGRcEG",
        "outputId": "2f84d26d-9a09-4f0d-b2d0-c4d712d7b2a9",
        "colab": {
          "base_uri": "https://localhost:8080/",
          "height": 106
        }
      },
      "outputs": [
        {
          "output_type": "error",
          "ename": "SyntaxError",
          "evalue": "unexpected character after line continuation character (<ipython-input-7-e396fa5c0189>, line 5)",
          "traceback": [
            "\u001b[0;36m  File \u001b[0;32m\"<ipython-input-7-e396fa5c0189>\"\u001b[0;36m, line \u001b[0;32m5\u001b[0m\n\u001b[0;31m    src_video_path = content/drive/MyDrive/Colab\\ Notebooks/faceswap/src/'+ src_file\u001b[0m\n\u001b[0m                                                 ^\u001b[0m\n\u001b[0;31mSyntaxError\u001b[0m\u001b[0;31m:\u001b[0m unexpected character after line continuation character\n"
          ]
        }
      ],
      "source": [
        "%cd /content/faceswap/\n",
        "\n",
        "if 0 == len(glob.glob(content/bien2.jpg)):\n",
        "  # frameに分割\n",
        "  src_video_path = content/drive/MyDrive/Colab\\ Notebooks/faceswap/src/'+ src_file\n",
        "  !ffmpeg -i $src_video_path /content/drive/MyDrive/Colab\\ Notebooks/faceswap/src_frames/src-video-frame-%d.png"
      ]
    },
    {
      "cell_type": "code",
      "execution_count": 6,
      "metadata": {
        "id": "PqyjP8KCzMiT",
        "outputId": "694b6668-d456-4dec-fea8-9b062336df24",
        "colab": {
          "base_uri": "https://localhost:8080/"
        }
      },
      "outputs": [
        {
          "output_type": "stream",
          "name": "stdout",
          "text": [
            "/content/faceswap\n",
            "python3: can't open file '/content/faceswap/faceswap.py': [Errno 2] No such file or directory\n"
          ]
        }
      ],
      "source": [
        "%cd /content/faceswap/\n",
        "# 顔抽出(extract)実行\n",
        "if 0 == len(glob.glob('/content/drive/MyDrive/Colab Notebooks/faceswap/src_extract/*.png')):\n",
        "  !python faceswap.py extract \\\n",
        "    -i /content/drive/MyDrive/Colab\\ Notebooks/faceswap/src_frames \\\n",
        "    -o /content/drive/MyDrive/Colab\\ Notebooks/faceswap/src_extract"
      ]
    },
    {
      "cell_type": "code",
      "execution_count": null,
      "metadata": {
        "id": "VGy7uZFaehO5"
      },
      "outputs": [],
      "source": [
        "%cd /content/drive/MyDrive/Colab\\ Notebooks/faceswap/target/\n",
        "\n",
        "if 0 == len(glob.glob('/content/drive/MyDrive/Colab Notebooks/faceswap/target/*.mp4')):\n",
        "  # 顔を以外を利用する動画をアップロード\n",
        "  from google.colab import files\n",
        "  target_uploaded = files.upload()\n",
        "  target_uploaded = list(target_uploaded.keys())\n",
        "  print(target_uploaded)\n",
        "  target_file = target_uploaded[0]"
      ]
    },
    {
      "cell_type": "code",
      "execution_count": null,
      "metadata": {
        "id": "z7dnZI6DhH--"
      },
      "outputs": [],
      "source": [
        "%cd /content/faceswap/\n",
        "\n",
        "if 0 == len(glob.glob('/content/drive/MyDrive/Colab Notebooks/faceswap/target_frames/*.png')):\n",
        "  # frameに分割\n",
        "  target_video_path = '/content/drive/MyDrive/Colab\\ Notebooks/faceswap/target/'+ target_file\n",
        "  !ffmpeg -i $target_video_path /content/drive/MyDrive/Colab\\ Notebooks/faceswap/target_frames/target-video-frame-%d.png"
      ]
    },
    {
      "cell_type": "code",
      "execution_count": null,
      "metadata": {
        "id": "SowSbL_ZhR06"
      },
      "outputs": [],
      "source": [
        "%cd /content/faceswap/\n",
        "# 顔抽出(extract)実行\n",
        "if 0 == len(glob.glob('/content/drive/MyDrive/Colab Notebooks/faceswap/target_extract/*.png')):\n",
        "  !python faceswap.py extract \\\n",
        "    -i /content/drive/MyDrive/Colab\\ Notebooks/faceswap/target_frames \\\n",
        "    -o /content/drive/MyDrive/Colab\\ Notebooks/faceswap/target_extract"
      ]
    },
    {
      "cell_type": "code",
      "execution_count": null,
      "metadata": {
        "id": "NBqLZxhI1DSl"
      },
      "outputs": [],
      "source": [
        "# numpyのバージョン変更\n",
        "!pip3 uninstall numpy -y\n",
        "!pip3 install numpy==1.19.*"
      ]
    },
    {
      "cell_type": "code",
      "execution_count": null,
      "metadata": {
        "id": "GULfAtojhacs"
      },
      "outputs": [],
      "source": [
        "%cd /content/faceswap/\n",
        "\n",
        "# 学習実行\n",
        "!python faceswap.py train \\\n",
        "  -A /content/drive/MyDrive/Colab\\ Notebooks/faceswap/target_extract \\\n",
        "  -B /content/drive/MyDrive/Colab\\ Notebooks/faceswap/src_extract \\\n",
        "  -m /content/drive/MyDrive/Colab\\ Notebooks/faceswap/models"
      ]
    },
    {
      "cell_type": "code",
      "execution_count": null,
      "metadata": {
        "id": "gL1_9wEqzDkT"
      },
      "outputs": [],
      "source": [
        "!pip3 uninstall numpy -y\n",
        "!pip3 install numpy --upgrade"
      ]
    },
    {
      "cell_type": "code",
      "execution_count": null,
      "metadata": {
        "id": "KvjtdfhCiukj"
      },
      "outputs": [],
      "source": [
        "# 顔の変換\n",
        "%cd /content/faceswap/\n",
        "\n",
        "!python faceswap.py convert \\\n",
        "  -i /content/drive/MyDrive/Colab\\ Notebooks/faceswap/target_frames \\\n",
        "  -o /content/drive/MyDrive/Colab\\ Notebooks/faceswap/results \\\n",
        "  -m /content/drive/MyDrive/Colab\\ Notebooks/faceswap/models"
      ]
    },
    {
      "cell_type": "code",
      "execution_count": 1,
      "metadata": {
        "id": "PgMRS0qyzftS",
        "outputId": "1af894b8-3b87-4e76-b87d-ad65aa512bb1",
        "colab": {
          "base_uri": "https://localhost:8080/"
        }
      },
      "outputs": [
        {
          "output_type": "stream",
          "name": "stdout",
          "text": [
            "[Errno 2] No such file or directory: '/content/faceswap/'\n",
            "/content\n",
            "ffmpeg version 4.4.2-0ubuntu0.22.04.1 Copyright (c) 2000-2021 the FFmpeg developers\n",
            "  built with gcc 11 (Ubuntu 11.2.0-19ubuntu1)\n",
            "  configuration: --prefix=/usr --extra-version=0ubuntu0.22.04.1 --toolchain=hardened --libdir=/usr/lib/x86_64-linux-gnu --incdir=/usr/include/x86_64-linux-gnu --arch=amd64 --enable-gpl --disable-stripping --enable-gnutls --enable-ladspa --enable-libaom --enable-libass --enable-libbluray --enable-libbs2b --enable-libcaca --enable-libcdio --enable-libcodec2 --enable-libdav1d --enable-libflite --enable-libfontconfig --enable-libfreetype --enable-libfribidi --enable-libgme --enable-libgsm --enable-libjack --enable-libmp3lame --enable-libmysofa --enable-libopenjpeg --enable-libopenmpt --enable-libopus --enable-libpulse --enable-librabbitmq --enable-librubberband --enable-libshine --enable-libsnappy --enable-libsoxr --enable-libspeex --enable-libsrt --enable-libssh --enable-libtheora --enable-libtwolame --enable-libvidstab --enable-libvorbis --enable-libvpx --enable-libwebp --enable-libx265 --enable-libxml2 --enable-libxvid --enable-libzimg --enable-libzmq --enable-libzvbi --enable-lv2 --enable-omx --enable-openal --enable-opencl --enable-opengl --enable-sdl2 --enable-pocketsphinx --enable-librsvg --enable-libmfx --enable-libdc1394 --enable-libdrm --enable-libiec61883 --enable-chromaprint --enable-frei0r --enable-libx264 --enable-shared\n",
            "  libavutil      56. 70.100 / 56. 70.100\n",
            "  libavcodec     58.134.100 / 58.134.100\n",
            "  libavformat    58. 76.100 / 58. 76.100\n",
            "  libavdevice    58. 13.100 / 58. 13.100\n",
            "  libavfilter     7.110.100 /  7.110.100\n",
            "  libswscale      5.  9.100 /  5.  9.100\n",
            "  libswresample   3.  9.100 /  3.  9.100\n",
            "  libpostproc    55.  9.100 / 55.  9.100\n",
            "\u001b[1;31m/content/drive/MyDrive/Colab /content/bien2.jpg: No such file or directory\n",
            "\u001b[0m"
          ]
        }
      ],
      "source": [
        "# フレーム画像を動画に変換\n",
        "%cd /content/faceswap/\n",
        "\n",
        "!ffmpeg -i /content/drive/MyDrive/Colab\\ /content/bien2.jpg -c:v libx264 -vf \"fps=25,format=yuv420p\" /content/drive/MyDrive/Colab\\ /content/bien.mov"
      ]
    }
  ],
  "metadata": {
    "accelerator": "GPU",
    "colab": {
      "name": "faceswap_demo.ipynb",
      "provenance": [],
      "gpuType": "T4"
    },
    "kernelspec": {
      "display_name": "Python 3",
      "name": "python3"
    },
    "language_info": {
      "name": "python"
    }
  },
  "nbformat": 4,
  "nbformat_minor": 0
}